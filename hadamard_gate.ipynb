{
 "cells": [
  {
   "cell_type": "code",
   "execution_count": 2,
   "metadata": {},
   "outputs": [
    {
     "data": {
      "text/html": [
       "<pre style=\"white-space:pre;overflow-x:auto;line-height:normal;font-family:Menlo,'DejaVu Sans Mono',consolas,'Courier New',monospace\">Manim Community <span style=\"color: #008000; text-decoration-color: #008000\">v0.13.1</span>\n",
       "\n",
       "</pre>\n"
      ],
      "text/plain": [
       "Manim Community \u001b[32mv0.\u001b[0m\u001b[32m13.1\u001b[0m\n",
       "\n"
      ]
     },
     "metadata": {},
     "output_type": "display_data"
    }
   ],
   "source": [
    "%matplotlib inline\n",
    "import numpy as np\n",
    "\n",
    "import jupyter_manim\n",
    "from manim import *"
   ]
  },
  {
   "cell_type": "code",
   "execution_count": 3,
   "metadata": {},
   "outputs": [
    {
     "name": "stderr",
     "output_type": "stream",
     "text": [
      "                                                                                      \r"
     ]
    },
    {
     "data": {
      "text/html": [
       "<video src=\"media/jupyter/SurroundingRectExample@2021-12-28@19-15-39.mp4\" controls autoplay loop style=\"max-width: 60%;\"  >\n",
       "      Your browser does not support the <code>video</code> element.\n",
       "    </video>"
      ],
      "text/plain": [
       "<IPython.core.display.Video object>"
      ]
     },
     "metadata": {},
     "output_type": "display_data"
    }
   ],
   "source": [
    "%%manim -qm -v WARNING SurroundingRectExample\n",
    "\n",
    "class SurroundingRectExample(ThreeDScene):\n",
    "    def construct(self):\n",
    "        title = Title(\"Hadamard gate\",include_underline=False).set_y(2)\n",
    "        gate = Text(\"H\",color=BLUE).scale(1.25)\n",
    "        box = Rectangle(color=YELLOW,height=2.0, width=2.0)\n",
    "        box.set_fill(BLACK,opacity=1)\n",
    "        dot = Dot()\n",
    "\n",
    "        circuitline1= Line([-6,0,0], [0,0,0])\n",
    "        circuitline2= Line([0,0,0], [6,0,0])\n",
    "        state0 = MathTex(r\"\\mid 0 \\rangle\", font_size=40).set_x(-5).set_y(0.4)\n",
    "        state1 = MathTex(r\"\\frac{1}{\\sqrt{2}} \\left( \\mid 0 \\rangle + \\mid 1 \\rangle \\right)\",\n",
    "            font_size=40).set_x(0.5).set_y(0.4)\n",
    "\n",
    "\n",
    "        sphere=Sphere(center=(0, 0, 0),\n",
    "                    radius=1,\n",
    "                    resolution=(20, 20),\n",
    "                    u_range=[-PI / 2, PI / 2],\n",
    "                    v_range=[0, TAU],\n",
    "                    fill_opacity=0.6\n",
    "                )\n",
    "        arrow = Arrow3D(start=np.array([0, 0, 0]), end=np.array([np.sqrt(2)/2, np.sqrt(2)/2, np.sqrt(2)/2]))\n",
    "        \n",
    "        self.set_camera_orientation(phi= 75 * DEGREES, theta=30 * DEGREES,zoom=2,)\n",
    "        axes = ThreeDAxes()\n",
    "        mobjects2=VGroup(sphere, arrow,axes).scale(0.5)\n",
    "\n",
    "        mobjects = VGroup(circuitline1,circuitline2,dot, state0,box, gate)\n",
    "        \n",
    "        \n",
    "        self.add(title, mobjects)\n",
    "        # animations=[]\n",
    "        # animations.append(state0.animate.move_to([0,0.4,0]))\n",
    "        # animations.append()\n",
    "        self.play(MoveAlongPath(dot, circuitline1),state0.animate.move_to([0,0.4,0]),run_time=2)\n",
    "        # self.remove(dot)\n",
    "        # self.add(dot)\n",
    "        # self.add(state1)\n",
    "        self.play(MoveAlongPath(dot, circuitline2),state1.animate.move_to([5,0.4,0]),run_time=2)\n",
    "\n",
    "        \n",
    "\n",
    "        self.add(mobjects2)\n",
    "        self.begin_ambient_camera_rotation(rate=0.2)\n",
    "        self.wait(2)\n",
    "        \n",
    "        \n",
    "        "
   ]
  },
  {
   "cell_type": "code",
   "execution_count": null,
   "metadata": {},
   "outputs": [],
   "source": []
  }
 ],
 "metadata": {
  "interpreter": {
   "hash": "a5e9bb5c8109d9c89e3540dfae7ab7a0527331017fc9eeaf677245afa113f1a5"
  },
  "kernelspec": {
   "display_name": "Python 3.9.7 64-bit ('base': conda)",
   "language": "python",
   "name": "python3"
  },
  "language_info": {
   "codemirror_mode": {
    "name": "ipython",
    "version": 3
   },
   "file_extension": ".py",
   "mimetype": "text/x-python",
   "name": "python",
   "nbconvert_exporter": "python",
   "pygments_lexer": "ipython3",
   "version": "3.9.7"
  },
  "orig_nbformat": 4
 },
 "nbformat": 4,
 "nbformat_minor": 2
}
