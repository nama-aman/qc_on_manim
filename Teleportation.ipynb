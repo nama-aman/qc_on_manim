{
 "cells": [
  {
   "cell_type": "code",
   "execution_count": 2,
   "metadata": {},
   "outputs": [
    {
     "data": {
      "text/html": [
       "<pre style=\"white-space:pre;overflow-x:auto;line-height:normal;font-family:Menlo,'DejaVu Sans Mono',consolas,'Courier New',monospace\">Manim Community <span style=\"color: #008000; text-decoration-color: #008000\">v0.13.1</span>\n",
       "\n",
       "</pre>\n"
      ],
      "text/plain": [
       "Manim Community \u001b[32mv0.\u001b[0m\u001b[32m13.1\u001b[0m\n",
       "\n"
      ]
     },
     "metadata": {},
     "output_type": "display_data"
    }
   ],
   "source": [
    "%matplotlib inline\n",
    "import numpy as np\n",
    "\n",
    "import jupyter_manim\n",
    "from manim import *"
   ]
  },
  {
   "cell_type": "code",
   "execution_count": 105,
   "metadata": {},
   "outputs": [
    {
     "name": "stderr",
     "output_type": "stream",
     "text": [
      "                                                                                                   \r"
     ]
    },
    {
     "data": {
      "text/html": [
       "<video src=\"media\\jupyter\\Teleportation@2022-01-08@22-36-39.mp4\" controls autoplay loop style=\"max-width: 60%;\"  >\n",
       "      Your browser does not support the <code>video</code> element.\n",
       "    </video>"
      ],
      "text/plain": [
       "<IPython.core.display.Video object>"
      ]
     },
     "metadata": {},
     "output_type": "display_data"
    }
   ],
   "source": [
    "%%manim -qm -v WARNING Teleportation\n",
    "\n",
    "class Teleportation(Scene):\n",
    "    CONFIG = {\n",
    "    \"x_min\" : -10,\n",
    "    \"x_max\" : 10,\n",
    "    \"y_min\" : -1.5,\n",
    "    \"y_max\" : 1.5,\n",
    "    \"graph_origin\" : ORIGIN ,\n",
    "    \"function_color\" : RED ,\n",
    "    \"axes_color\" : GREEN,\n",
    "    \"x_labeled_nums\" :range(-10,12,2),\n",
    "    }   \n",
    "    def construct(self):\n",
    "        # Algorithm name\n",
    "        algorithm=\"Teleportation Algorithm\"\n",
    "        title = Title(algorithm,include_underline=False).set_y(3.1)\n",
    "        self.add_foreground_mobject(title)\n",
    "        circuitline=[[None for i in range(5)] for i in range(5)]\n",
    "        circuit=VGroup()\n",
    "\n",
    "        #section zero: create all registers: quantum and classical\n",
    "        regs=[MathTex(r\"q_0\"),MathTex(r\"q_1\"), MathTex(r\"q_2\"),MathTex(r\"c_{rz}\"), MathTex(r\"c_{rxz}\")]\n",
    "        registers=VGroup()\n",
    "        \n",
    "        for i,reg in enumerate(regs):\n",
    "            reg.set_x(-6).set_y(2-i)\n",
    "            circuitline[i][0]=Line([-5.6,2-i,0], [-5.4,2-i,0])\n",
    "            registers.add(reg)\n",
    "            circuit.add(circuitline[i][0])\n",
    "        self.add(registers,circuit)\n",
    "        #section I: Create a maximally entangled state\n",
    "        def create_gate(gate:str,x:int,y:int,control=False,scale=1,textcolor=WHITE,boxcolor=BLUE):\n",
    "            if control:\n",
    "                dot=Dot().set_x(x).set_y(y)\n",
    "                control_line= Line([x,y,0], [x,y-1,0])\n",
    "                gate_ = MathTex(gate,color=textcolor).scale(scale+0.5).set_x(x).set_y(y-1)\n",
    "                gate_.bg = BackgroundRectangle(gate_,stroke_width=1,color=boxcolor, fill_opacity=1).scale(scale+1)\n",
    "                return VGroup(control_line,gate_.bg,gate_,dot)\n",
    "            else:\n",
    "                gate_ = MathTex(gate,color=textcolor).scale(scale+0.5).set_x(x).set_y(y)\n",
    "                gate_.bg = BackgroundRectangle(gate_,stroke_width=1,color=boxcolor, fill_opacity=1).scale(scale+1)\n",
    "                return VGroup(gate_.bg,gate_)\n",
    "        #draw circuit lines\n",
    "        for i,reg in enumerate(regs):\n",
    "            circuitline[i][1]=Line([-5.4,2-i,0], [-3.5,2-i,0])\n",
    "            circuit.add(circuitline[i][1])\n",
    "        self.add(circuit)\n",
    "\n",
    "        H_gate1=create_gate(\"H\",-4.6 ,1,scale=0.5)\n",
    "        C_not1= create_gate(\"X\",-3.8 ,1,control=True,scale=0.5)\n",
    "        self.play(Create(H_gate1),Create(C_not1))\n",
    "   \n",
    "        self.wait()\n",
    "\n",
    "        # Section :II create entanglement between 1st and 2nd qubit\n",
    "        barrier=DashedLine([-3.5,3.5,0], [-3.5,-3.5,0])\n",
    "        self.add(barrier)\n",
    "        for i,reg in enumerate(regs):\n",
    "            circuitline[i][2]=Line([-3.5,2-i,0], [0,2-i,0])\n",
    "            circuit.add(circuitline[i][2])\n",
    "        self.add(circuit)\n",
    "        C_not2= create_gate(\"X\",-2.5 ,2,control=True,scale=0.5)\n",
    "        H_gate2=create_gate(\"H\",-1.5 ,2,scale=0.5)\n",
    "        self.play(Create(H_gate2),Create(C_not2))\n",
    "\n",
    "        # Section III: Add measurement Gates\n",
    "        # \\not \\frown\n",
    "        barrier_2=DashedLine([-3.5,3.5,0], [-3.5,-3.5,0])\n",
    "        self.add(barrier_2)\n",
    "        for i,reg in enumerate(regs):\n",
    "            circuitline[i][3]=Line([-0,2-i,0], [1.75,2-i,0])\n",
    "            circuit.add(circuitline[i][3])\n",
    "        self.add(circuit)\n",
    "        measure_0=create_gate(r\"\\not \\frown\",0.5 ,2,control=True,scale=0.5)\n",
    "        measure_1=create_gate(r\"\\not \\frown\",1.25,1,control=True,scale=0.5)\n",
    "        self.play(Create(measure_0),Create(measure_1))\n",
    "\n",
    "\n",
    "        self.wait()\n",
    "\n",
    "        \n",
    "        \n",
    "\n"
   ]
  },
  {
   "cell_type": "code",
   "execution_count": 37,
   "metadata": {},
   "outputs": [
    {
     "data": {
      "text/plain": [
       "numpy.float64"
      ]
     },
     "execution_count": 37,
     "metadata": {},
     "output_type": "execute_result"
    }
   ],
   "source": [
    "circuit=np.empty((5,5))\n",
    "circuit[4,4]=3\n",
    "type(circuit[0,0])"
   ]
  },
  {
   "cell_type": "code",
   "execution_count": 58,
   "metadata": {},
   "outputs": [
    {
     "data": {
      "text/plain": [
       "NoneType"
      ]
     },
     "execution_count": 58,
     "metadata": {},
     "output_type": "execute_result"
    }
   ],
   "source": [
    "circuit=[[None for i in range(5)] for i in range(5)]\n",
    "type(circuit[0][0])"
   ]
  },
  {
   "cell_type": "code",
   "execution_count": null,
   "metadata": {},
   "outputs": [],
   "source": []
  }
 ],
 "metadata": {
  "interpreter": {
   "hash": "a707b6ce8c685eb936424fcc3009d4b4b7a52543c4db09380a3fc49186ceb509"
  },
  "kernelspec": {
   "display_name": "Python 3.9.7 64-bit ('base': conda)",
   "language": "python",
   "name": "python3"
  },
  "language_info": {
   "codemirror_mode": {
    "name": "ipython",
    "version": 3
   },
   "file_extension": ".py",
   "mimetype": "text/x-python",
   "name": "python",
   "nbconvert_exporter": "python",
   "pygments_lexer": "ipython3",
   "version": "3.9.7"
  },
  "orig_nbformat": 4
 },
 "nbformat": 4,
 "nbformat_minor": 2
}
