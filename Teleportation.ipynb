{
 "cells": [
  {
   "cell_type": "code",
   "execution_count": 1,
   "metadata": {},
   "outputs": [
    {
     "data": {
      "text/html": [
       "<pre style=\"white-space:pre;overflow-x:auto;line-height:normal;font-family:Menlo,'DejaVu Sans Mono',consolas,'Courier New',monospace\">Manim Community <span style=\"color: #008000; text-decoration-color: #008000\">v0.13.1</span>\n",
       "\n",
       "</pre>\n"
      ],
      "text/plain": [
       "Manim Community \u001b[32mv0.\u001b[0m\u001b[32m13.1\u001b[0m\n",
       "\n"
      ]
     },
     "metadata": {},
     "output_type": "display_data"
    }
   ],
   "source": [
    "%matplotlib inline\n",
    "import numpy as np\n",
    "\n",
    "import jupyter_manim\n",
    "from manim import *"
   ]
  },
  {
   "cell_type": "code",
   "execution_count": 11,
   "metadata": {},
   "outputs": [
    {
     "name": "stderr",
     "output_type": "stream",
     "text": [
      "                                                                                                   \r"
     ]
    },
    {
     "name": "stdout",
     "output_type": "stream",
     "text": [
      "[[Line, Line, Line, Line, Line], [Line, Line, Line, Line, Line], [Line, Line, Line, Line, Line], [Line, Line, Line, Line, Line], [Line, Line, Line, Line, Line]]\n"
     ]
    },
    {
     "data": {
      "text/html": [
       "<video src=\"media\\jupyter\\Teleportation@2022-01-10@21-36-15.mp4\" controls autoplay loop style=\"max-width: 60%;\"  >\n",
       "      Your browser does not support the <code>video</code> element.\n",
       "    </video>"
      ],
      "text/plain": [
       "<IPython.core.display.Video object>"
      ]
     },
     "metadata": {},
     "output_type": "display_data"
    }
   ],
   "source": [
    "%%manim -qm -v WARNING Teleportation\n",
    "\n",
    "class Teleportation(Scene):\n",
    "    def construct(self):\n",
    "        circuitline=[[None for i in range(5)] for i in range(5)]\n",
    "        circuit=VGroup()\n",
    "        # Algorithm name\n",
    "        algorithm=\"Teleportation Algorithm\"\n",
    "        title = Title(algorithm,include_underline=False).set_y(3.1)\n",
    "        self.add_foreground_mobject(title)\n",
    "\n",
    "        #section zero: create all registers: quantum and classical\n",
    "        regs=[MathTex(r\"q_0\"),MathTex(r\"q_1\"), MathTex(r\"q_2\"),MathTex(r\"c_{rz}\"), MathTex(r\"c_{rxz}\")]\n",
    "        registers=VGroup()\n",
    "        \n",
    "        for i,reg in enumerate(regs):\n",
    "            reg.set_x(-6).set_y(2-i)\n",
    "            circuitline[0][i]=Line([-5.5,2-i,0], [-5.4,2-i,0])\n",
    "            registers.add(reg)\n",
    "            circuit.add(circuitline[0][i])\n",
    "        self.add(registers,circuit)\n",
    "\n",
    "        \n",
    "        def create_gate(gate:str,x:int,y:int,control=None,scale=1,textcolor=WHITE,boxcolor=BLUE):\n",
    "            if control:\n",
    "                dot=Dot().set_x(x).set_y(control)\n",
    "                control_line= Line([x,control,0], [x,y,0])\n",
    "                gate_ = MathTex(gate,color=textcolor).scale(scale+0.5).set_x(x).set_y(y)\n",
    "                gate_.bg = BackgroundRectangle(gate_,stroke_width=1,color=boxcolor, fill_opacity=1).scale(scale+1)\n",
    "                return VGroup(control_line,gate_.bg,gate_,dot)\n",
    "            else:\n",
    "                gate_ = MathTex(gate,color=textcolor).scale(scale+0.5).set_x(x).set_y(y)\n",
    "                gate_.bg = BackgroundRectangle(gate_,stroke_width=1,color=boxcolor, fill_opacity=1).scale(scale+1)\n",
    "                return VGroup(gate_.bg,gate_)\n",
    "        \n",
    "        def draw_circuitline(regs,sect:int,xrange:list,ydiff: float,barrier=True,circuitline=circuitline,circuit=circuit):\n",
    "            for i in range(5):\n",
    "                circuitline[sect][i]=Line([xrange[0],ydiff-i,-0.5], [xrange[1],ydiff-i,-0.5])\n",
    "                circuit.add(circuitline[sect][i])\n",
    "                self.add(circuitline[sect][i])\n",
    "            if barrier:\n",
    "                barrierline=DashedLine([xrange[1],3,0], [xrange[1],-3,0],dashed_ratio=0.75).set_opacity(0.5)\n",
    "                self.add(barrierline)\n",
    "                # self.add(VGroup(circuit,barrierline))\n",
    "            else:\n",
    "                self.add(VGroup(circuit))\n",
    "            # return VGroup(circuit,barrier)\n",
    "\n",
    "\n",
    "\n",
    "        # #section I: Create a maximally entangled state\n",
    "        draw_circuitline(regs,sect=1,xrange=[-5.4,-3],ydiff=2)\n",
    "        H_gate1=create_gate(\"H\",-4.75 ,1,scale=0.5)\n",
    "        C_not1= create_gate(\"X\",-3.75 ,0,control=1,scale=0.5)\n",
    "        self.play(Create(H_gate1),Create(C_not1))\n",
    "        self.wait()\n",
    "\n",
    "        # Section :II create entanglement between 1st and 2nd qubit\n",
    "        draw_circuitline(regs,sect=2,xrange=[-3,-0.5],ydiff=2)\n",
    "        \n",
    "        C_not2= create_gate(\"X\",-2.25 ,1,control=2,scale=0.5)\n",
    "        H_gate2=create_gate(\"H\",-1.25 ,2,scale=0.5)\n",
    "        self.play(Create(H_gate2),Create(C_not2))\n",
    "\n",
    "        # # Section III: Add measurement Gates\n",
    "        draw_circuitline(regs,sect=3,xrange=[-0.5,2],ydiff=2)\n",
    "\n",
    "        measure_0=create_gate(r\"\\not \\frown\",0.25,y=-1,control=2,scale=0.5)\n",
    "        measure_1=create_gate(r\"\\not \\frown\",1.25,y=-2,control=1,scale=0.5)\n",
    "        self.play(Create(measure_0),Create(measure_1))\n",
    "\n",
    "        # Section IV: Add classical controlled gate\n",
    "        draw_circuitline(regs,sect=4,xrange=[2,4.5],ydiff=2,barrier=False)\n",
    "        classicX=create_gate(r\"X\",2.75,y=0,control=-2,scale=0.5)\n",
    "        classicZ=create_gate(r\"Z\",3.75,y=0,control=-1,scale=0.5)\n",
    "        self.play(Create(classicX),Create(classicZ))\n",
    "\n",
    "        dot1=Dot()\n",
    "        self.play(MoveAlongPath(dot1, circuitline[1][2]))\n",
    "        self.wait()\n",
    "        print(circuitline)\n",
    "\n",
    "        \n",
    "        \n",
    "\n"
   ]
  },
  {
   "cell_type": "code",
   "execution_count": 37,
   "metadata": {},
   "outputs": [
    {
     "data": {
      "text/plain": [
       "numpy.float64"
      ]
     },
     "execution_count": 37,
     "metadata": {},
     "output_type": "execute_result"
    }
   ],
   "source": []
  },
  {
   "cell_type": "code",
   "execution_count": 71,
   "metadata": {},
   "outputs": [
    {
     "data": {
      "text/plain": [
       "[[None, None, None, None, None],\n",
       " [None, None, None, None, None],\n",
       " [None, 3, None, None, None],\n",
       " [None, None, None, None, None],\n",
       " [None, None, None, None, None]]"
      ]
     },
     "execution_count": 71,
     "metadata": {},
     "output_type": "execute_result"
    }
   ],
   "source": [
    "\n"
   ]
  },
  {
   "cell_type": "code",
   "execution_count": null,
   "metadata": {},
   "outputs": [],
   "source": []
  }
 ],
 "metadata": {
  "interpreter": {
   "hash": "a707b6ce8c685eb936424fcc3009d4b4b7a52543c4db09380a3fc49186ceb509"
  },
  "kernelspec": {
   "display_name": "Python 3.9.7 64-bit ('base': conda)",
   "language": "python",
   "name": "python3"
  },
  "language_info": {
   "codemirror_mode": {
    "name": "ipython",
    "version": 3
   },
   "file_extension": ".py",
   "mimetype": "text/x-python",
   "name": "python",
   "nbconvert_exporter": "python",
   "pygments_lexer": "ipython3",
   "version": "3.9.7"
  },
  "orig_nbformat": 4
 },
 "nbformat": 4,
 "nbformat_minor": 2
}
