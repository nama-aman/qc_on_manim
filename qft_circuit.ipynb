{
 "cells": [
  {
   "cell_type": "code",
   "execution_count": 2,
   "metadata": {},
   "outputs": [
    {
     "data": {
      "text/html": [
       "<pre style=\"white-space:pre;overflow-x:auto;line-height:normal;font-family:Menlo,'DejaVu Sans Mono',consolas,'Courier New',monospace\">Manim Community <span style=\"color: #008000; text-decoration-color: #008000\">v0.13.1</span>\n",
       "\n",
       "</pre>\n"
      ],
      "text/plain": [
       "Manim Community \u001b[32mv0.\u001b[0m\u001b[32m13.1\u001b[0m\n",
       "\n"
      ]
     },
     "metadata": {},
     "output_type": "display_data"
    }
   ],
   "source": [
    "%matplotlib inline\n",
    "import numpy as np\n",
    "\n",
    "import jupyter_manim\n",
    "from manim import *"
   ]
  },
  {
   "cell_type": "code",
   "execution_count": 29,
   "metadata": {},
   "outputs": [
    {
     "name": "stderr",
     "output_type": "stream",
     "text": [
      "                                                                                             \r"
     ]
    },
    {
     "name": "stdout",
     "output_type": "stream",
     "text": [
      "1\n"
     ]
    },
    {
     "name": "stderr",
     "output_type": "stream",
     "text": [
      "                                                                                             \r"
     ]
    },
    {
     "name": "stdout",
     "output_type": "stream",
     "text": [
      "2\n"
     ]
    },
    {
     "name": "stderr",
     "output_type": "stream",
     "text": [
      "                                                                                             \r"
     ]
    },
    {
     "name": "stdout",
     "output_type": "stream",
     "text": [
      "3\n"
     ]
    },
    {
     "data": {
      "text/html": [
       "<video src=\"media\\jupyter\\qftcircuit@2022-01-13@11-15-24.mp4\" controls autoplay loop style=\"max-width: 60%;\"  >\n",
       "      Your browser does not support the <code>video</code> element.\n",
       "    </video>"
      ],
      "text/plain": [
       "<IPython.core.display.Video object>"
      ]
     },
     "metadata": {},
     "output_type": "display_data"
    }
   ],
   "source": [
    "%%manim -qm -v WARNING qftcircuit\n",
    "\n",
    "class qftcircuit(Scene):\n",
    "    config= {\n",
    "        \"x_lim\":int,    # define leftmost lowerlimit of x for circuit and gates\n",
    "        \"y_lim\":int,    # define up-most limit of y for circuit and gates\n",
    "        \n",
    "    }\n",
    "    def __init__(self, **kwargs):\n",
    "        super(qftcircuit, self).__init__()       #inheritance from class Scene\n",
    "        self.x_lim=-6\n",
    "        self.y_lim=-2\n",
    "        self.gap=1\n",
    "        self.n_qubit=4\n",
    "        self.x_range=[None for i in range(self.n_qubit)]\n",
    "        self.dots=[Dot() for i in range(self.n_qubit)]\n",
    "        self.circuitline=[[None for i in range(5)] for i in range(5)]   # List to hold all circuit line elements and VGroup  to include all the Mobjects of circuitline\n",
    "        self.circuit=VGroup()\n",
    "    \n",
    "\n",
    "    def construct(self):\n",
    "        \n",
    "        # Algorithm name\n",
    "        algorithm=\"Quantum Fourier Transform\"\n",
    "        title = Title(algorithm,include_underline=False).set_y(3.1)     #title of the ALgorithm\n",
    "        self.add_foreground_mobject(title)\n",
    "\n",
    "        #section zero: create all registers: quantum and classical\n",
    "        # regs=[MathTex(r\"q_\"+str(i)) for i in range(n_qubit)] # create quantum register\n",
    "        \n",
    "        registers=VGroup()\n",
    "        regs=[MathTex(r\"q_\"+str(i)) for i in range(self.n_qubit)]\n",
    "        for i,reg in enumerate(regs):       #add registers to the scene\n",
    "            reg.set_x(self.x_lim).set_y(self.y_lim+i*self.gap)\n",
    "            registers.add(reg)\n",
    "        self.add(registers)\n",
    "\n",
    "        def create_gate(gate:str,x:int,y:int,control=None,scale=1,textcolor=WHITE,boxcolor=BLUE,fontsize=48):\n",
    "            if control:\n",
    "                dot=Dot().set_x(x).set_y(control)\n",
    "                control_line= Line([x,control,0], [x,y,0])\n",
    "                gate_ = MathTex(gate,color=textcolor,font_size=fontsize).scale(scale+0.5).set_x(x).set_y(y)\n",
    "                gate_.bg = BackgroundRectangle(gate_,stroke_width=1,color=boxcolor, fill_opacity=1).scale(scale+1)\n",
    "                return VGroup(control_line,gate_.bg,gate_,dot)\n",
    "            else:\n",
    "                gate_ = MathTex(gate,color=textcolor,font_size=fontsize).scale(scale+0.5).set_x(x).set_y(y)\n",
    "                gate_.bg = BackgroundRectangle(gate_,stroke_width=1,color=boxcolor, fill_opacity=1).scale(scale+1)\n",
    "                return VGroup(gate_.bg,gate_)\n",
    "        \n",
    "        def draw_circuitline(sect:int,xrange:list,ydiff=self.gap,barrier=True):\n",
    "            for i in range(self.n_qubit):\n",
    "                self.circuitline[sect][i]=Line([xrange[0],ydiff-i,-0.5], [xrange[1],ydiff-i,-0.5])\n",
    "                self.circuit.add(self.circuitline[sect][i])\n",
    "                self.add(self.circuitline[sect][i])\n",
    "            if barrier:\n",
    "                barrierline=DashedLine([xrange[1],self.y_lim-0.5,0], [xrange[1],self.y_lim+self.gap*(self.n_qubit-0.5),0],dashed_ratio=0.75).set_opacity(0.5)\n",
    "                self.add(barrierline)\n",
    "                # self.add(VGroup(circuit,barrierline))\n",
    "                # return VGroup(circuit,barrier)\n",
    "        # def move_dot(sect: int,dots=dots,circuitline=circuitline,circuit=circuit):\n",
    "        #     animation=[]\n",
    "        #     for j in range(3):\n",
    "        #         animation.append(MoveAlongPath(dots[j], circuitline[sect][j]))\n",
    "        #     # self.play(*animation)\n",
    "        #     return animation\n",
    "\n",
    "        def qft_element(n: int,ctr_rep=0):\n",
    "            self.x_range[n]=[self.x_lim+n*0.5,self.x_lim+1.5+0.75*(ctr_rep)]\n",
    "            n-=1\n",
    "            draw_circuitline(sect=1,xrange=self.x_range[1])\n",
    "            hgate=create_gate(r\"H\",x=self.x_range[1][0]+0.5,y=self.y_lim+n*self.gap,scale=0.1*self.n_qubit)\n",
    "            self.play(Create(hgate))\n",
    "            for i in range(ctr_rep):\n",
    "                i+=1\n",
    "                angle=int(2**(i))\n",
    "                phasegate=create_gate(r\"\\pi\"+\"/\"+str(angle),x=self.x_range[1][0]+(i+0.5)*0.75,y=self.y_lim+n*self.gap,\n",
    "                                        scale=0.03*self.n_qubit,fontsize=48,control=self.y_lim+(i+0.01)*self.gap)\n",
    "                            \n",
    "                self.play(Create(phasegate))\n",
    "                print(i)\n",
    "            \n",
    "\n",
    "    \n",
    "        # Section I\n",
    "        qft_element(n=1,ctr_rep=3)\n",
    "        \n",
    "\n",
    "\n"
   ]
  },
  {
   "cell_type": "code",
   "execution_count": null,
   "metadata": {},
   "outputs": [],
   "source": []
  }
 ],
 "metadata": {
  "interpreter": {
   "hash": "a707b6ce8c685eb936424fcc3009d4b4b7a52543c4db09380a3fc49186ceb509"
  },
  "kernelspec": {
   "display_name": "Python 3.9.7 64-bit ('base': conda)",
   "language": "python",
   "name": "python3"
  },
  "language_info": {
   "codemirror_mode": {
    "name": "ipython",
    "version": 3
   },
   "file_extension": ".py",
   "mimetype": "text/x-python",
   "name": "python",
   "nbconvert_exporter": "python",
   "pygments_lexer": "ipython3",
   "version": "3.9.7"
  },
  "orig_nbformat": 4
 },
 "nbformat": 4,
 "nbformat_minor": 2
}
